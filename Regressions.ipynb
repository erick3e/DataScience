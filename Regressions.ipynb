# Review

## Regression measures on model accuracy

* MAD (Mean Absolute Deviation)
    $$ \frac{1}{N} \sum |{\hat{Y}_i - Y_i }| $$
* MAPE Mean Absolute Percentage Error
    $$ \frac{1}{N} \sum_i |{ \frac{Y_i -\hat{Y}_i}{ Y_i } }| $$
* SMAPE Symmetric Mean Absolute Percent Error
    $$ \frac{1}{N} \sum_i { \frac{2|Y_i -\hat{Y}_i |}{ |Y_i| + |\hat{Y}_i| } } $$
* Mean Square Error
    $$ \frac{1}{N} \sum_i {(Y_i - \hat{Y}_i)^2} $$
* Quantile Loss
    $$ \frac{1}{N} \sum_i {q(Y_i - \hat{Y}_i)^+ + (1 - q)(\hat{Y}_i - Y_i) ^+}$$
